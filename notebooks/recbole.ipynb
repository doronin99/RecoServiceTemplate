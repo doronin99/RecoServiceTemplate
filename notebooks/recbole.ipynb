{
  "cells": [
    {
      "cell_type": "markdown",
      "metadata": {
        "id": "view-in-github",
        "colab_type": "text"
      },
      "source": [
        "<a href=\"https://colab.research.google.com/github/doronin99/RecoServiceTemplate/blob/task5/notebooks/recbole.ipynb\" target=\"_parent\"><img src=\"https://colab.research.google.com/assets/colab-badge.svg\" alt=\"Open In Colab\"/></a>"
      ]
    },
    {
      "cell_type": "markdown",
      "metadata": {
        "id": "D7rPKdz1EvrD"
      },
      "source": [
        "## Dependencies installing"
      ]
    },
    {
      "cell_type": "code",
      "execution_count": null,
      "metadata": {
        "colab": {
          "base_uri": "https://localhost:8080/"
        },
        "id": "4atXUgx_FCsP",
        "outputId": "bb48f378-687e-47fa-93b9-e0b77b1d4bae"
      },
      "outputs": [
        {
          "name": "stdout",
          "output_type": "stream",
          "text": [
            "\u001b[?25l     \u001b[90m━━━━━━━━━━━━━━━━━━━━━━━━━━━━━━━━━━━━━━━━\u001b[0m \u001b[32m0.0/2.1 MB\u001b[0m \u001b[31m?\u001b[0m eta \u001b[36m-:--:--\u001b[0m\r\u001b[2K     \u001b[91m━━\u001b[0m\u001b[91m╸\u001b[0m\u001b[90m━━━━━━━━━━━━━━━━━━━━━━━━━━━━━━━━━━━━━\u001b[0m \u001b[32m0.2/2.1 MB\u001b[0m \u001b[31m4.4 MB/s\u001b[0m eta \u001b[36m0:00:01\u001b[0m\r\u001b[2K     \u001b[91m━━━━━━━━━━━━━━━━━━━━━━━━━━━━━━\u001b[0m\u001b[91m╸\u001b[0m\u001b[90m━━━━━━━━━\u001b[0m \u001b[32m1.6/2.1 MB\u001b[0m \u001b[31m23.9 MB/s\u001b[0m eta \u001b[36m0:00:01\u001b[0m\r\u001b[2K     \u001b[90m━━━━━━━━━━━━━━━━━━━━━━━━━━━━━━━━━━━━━━━━\u001b[0m \u001b[32m2.1/2.1 MB\u001b[0m \u001b[31m22.6 MB/s\u001b[0m eta \u001b[36m0:00:00\u001b[0m\n",
            "\u001b[?25h"
          ]
        }
      ],
      "source": [
        "pip install -q recbole"
      ]
    },
    {
      "cell_type": "code",
      "execution_count": null,
      "metadata": {
        "colab": {
          "base_uri": "https://localhost:8080/"
        },
        "id": "xYC_gTz-FU-g",
        "outputId": "be07a56d-fc44-42bc-a08f-c1f79f20a9e4"
      },
      "outputs": [
        {
          "name": "stdout",
          "output_type": "stream",
          "text": [
            "\u001b[2K     \u001b[90m━━━━━━━━━━━━━━━━━━━━━━━━━━━━━━━━━━━━━━━━\u001b[0m \u001b[32m62.6/62.6 MB\u001b[0m \u001b[31m12.0 MB/s\u001b[0m eta \u001b[36m0:00:00\u001b[0m\n",
            "\u001b[?25h"
          ]
        }
      ],
      "source": [
        "pip install -q ray"
      ]
    },
    {
      "cell_type": "code",
      "execution_count": null,
      "metadata": {
        "id": "h82_sQazGPAN"
      },
      "outputs": [],
      "source": [
        "pip install -q kmeans_pytorch"
      ]
    },
    {
      "cell_type": "code",
      "execution_count": null,
      "metadata": {
        "id": "LauYSfeXE5A9"
      },
      "outputs": [],
      "source": [
        "import warnings\n",
        "warnings.filterwarnings('ignore')"
      ]
    },
    {
      "cell_type": "code",
      "execution_count": null,
      "metadata": {
        "id": "SHWXW-1ZEoWu"
      },
      "outputs": [],
      "source": [
        "import ast\n",
        "import json\n",
        "import matplotlib.pyplot as plt\n",
        "import numpy as np\n",
        "import os\n",
        "import pandas as pd\n",
        "import pickle\n",
        "import time\n",
        "\n",
        "from collections import Counter\n",
        "from random import randint, random\n",
        "from scipy.sparse import coo_matrix, hstack\n",
        "from sklearn.metrics.pairwise import euclidean_distances, cosine_distances, cosine_similarity\n",
        "\n",
        "import logging\n",
        "from logging import getLogger\n",
        "from recbole.config import Config\n",
        "from recbole.data import create_dataset, data_preparation\n",
        "from recbole.model.sequential_recommender import GRU4Rec, Caser\n",
        "from recbole.trainer import Trainer\n",
        "from recbole.utils import init_seed, init_logger\n",
        "from recbole.quick_start import run_recbole"
      ]
    },
    {
      "cell_type": "markdown",
      "metadata": {
        "id": "9OuCcazDFMxT"
      },
      "source": [
        "## Data loading"
      ]
    },
    {
      "cell_type": "code",
      "execution_count": null,
      "metadata": {
        "colab": {
          "base_uri": "https://localhost:8080/"
        },
        "id": "aAPsE_fXFMnM",
        "outputId": "4a3e02ec-9476-4b45-be46-ceb100b1d856"
      },
      "outputs": [
        {
          "name": "stdout",
          "output_type": "stream",
          "text": [
            "Archive:  data_original.zip\n",
            "   creating: data_original/\n",
            "  inflating: data_original/interactions.csv  \n",
            "  inflating: __MACOSX/data_original/._interactions.csv  \n",
            "  inflating: data_original/users.csv  \n",
            "  inflating: __MACOSX/data_original/._users.csv  \n",
            "  inflating: data_original/items.csv  \n",
            "  inflating: __MACOSX/data_original/._items.csv  \n"
          ]
        }
      ],
      "source": [
        "!wget -q https://github.com/irsafilo/KION_DATASET/raw/f69775be31fa5779907cf0a92ddedb70037fb5ae/data_original.zip -O data_original.zip\n",
        "!unzip -o data_original.zip\n",
        "!rm data_original.zip"
      ]
    },
    {
      "cell_type": "code",
      "execution_count": null,
      "metadata": {
        "id": "Sb5uwe5-FerS"
      },
      "outputs": [],
      "source": [
        "interactions_df = pd.read_csv('data_original/interactions.csv')\n",
        "users_df = pd.read_csv('data_original/users.csv')\n",
        "items_df = pd.read_csv('data_original/items.csv')"
      ]
    },
    {
      "cell_type": "code",
      "execution_count": null,
      "metadata": {
        "id": "XfbJrMLeFl6f"
      },
      "outputs": [],
      "source": [
        "interactions_df['t_dat'] = pd.to_datetime(interactions_df['last_watch_dt'], format=\"%Y-%m-%d\")\n",
        "interactions_df['timestamp'] = interactions_df.t_dat.values.astype(np.int64) // 10 ** 9\n",
        "\n",
        "df = interactions_df[['user_id', 'item_id', 'timestamp']].rename(\n",
        "    columns={'user_id': 'user_id:token', 'item_id': 'item_id:token', 'timestamp': 'timestamp:float'})"
      ]
    },
    {
      "cell_type": "code",
      "execution_count": null,
      "metadata": {
        "id": "hJRBa0YMF2JQ"
      },
      "outputs": [],
      "source": [
        "!mkdir recbox_data"
      ]
    },
    {
      "cell_type": "code",
      "execution_count": null,
      "metadata": {
        "id": "fHwadofEF5N-"
      },
      "outputs": [],
      "source": [
        "df.to_csv('recbox_data/recbox_data.inter', index=False, sep='\\t')"
      ]
    },
    {
      "cell_type": "markdown",
      "metadata": {
        "id": "9948eQtQNRaE"
      },
      "source": [
        "## Main"
      ]
    },
    {
      "cell_type": "code",
      "execution_count": null,
      "metadata": {
        "colab": {
          "base_uri": "https://localhost:8080/"
        },
        "id": "7MBDekS4F9Pe",
        "outputId": "bcfa0052-38e0-4f29-a84a-85d46830bb50"
      },
      "outputs": [
        {
          "name": "stderr",
          "output_type": "stream",
          "text": [
            "WARNING:root:command line args [-f /root/.local/share/jupyter/runtime/kernel-a7e19ae3-fb9e-4161-a147-e3d1f962669a.json] will not be used in RecBole\n"
          ]
        }
      ],
      "source": [
        "parameter_dict = {\n",
        "    'data_path': '',\n",
        "    'USER_ID_FIELD': 'user_id',\n",
        "    'ITEM_ID_FIELD': 'item_id',\n",
        "    'TIME_FIELD': 'timestamp',\n",
        "    'device': 'GPU',\n",
        "    'user_inter_num_interval': \"[40,inf)\",\n",
        "    'item_inter_num_interval': \"[40,inf)\",\n",
        "    'load_col': {'inter': ['user_id', 'item_id', 'timestamp']},\n",
        "    'neg_sampling': None,\n",
        "    'epochs': 10,\n",
        "    'eval_args': {\n",
        "        'split': {'RS': [9, 0, 1]},\n",
        "        'group_by': 'user',\n",
        "        'order': 'TO',\n",
        "        'mode': 'full'}\n",
        "}\n",
        "config = Config(model='MultiVAE', dataset='recbox_data', config_dict=parameter_dict)\n",
        "\n",
        "# init random seed\n",
        "init_seed(config['seed'], config['reproducibility'])\n",
        "\n",
        "# logger initialization\n",
        "init_logger(config)\n",
        "logger = getLogger()\n",
        "# Create handlers\n",
        "c_handler = logging.StreamHandler()\n",
        "c_handler.setLevel(logging.INFO)\n",
        "logger.addHandler(c_handler)\n",
        "\n",
        "# write config info into log\n",
        "# logger.info(config)"
      ]
    },
    {
      "cell_type": "code",
      "execution_count": null,
      "metadata": {
        "id": "wz_9fk_zF_Hf"
      },
      "outputs": [],
      "source": [
        "dataset = create_dataset(config)\n",
        "logger.info(dataset)"
      ]
    },
    {
      "cell_type": "code",
      "execution_count": null,
      "metadata": {
        "id": "GBF4dVufGBUg"
      },
      "outputs": [],
      "source": [
        "# dataset splitting\n",
        "train_data, valid_data, test_data = data_preparation(config, dataset)"
      ]
    },
    {
      "cell_type": "code",
      "execution_count": null,
      "metadata": {
        "colab": {
          "background_save": true,
          "base_uri": "https://localhost:8080/"
        },
        "id": "GOoFfCC3GMOE",
        "outputId": "6c95700a-3eff-4e3f-9b33-45f70ac977b0"
      },
      "outputs": [
        {
          "name": "stdout",
          "output_type": "stream",
          "text": [
            "running ItemKNN...\n"
          ]
        },
        {
          "name": "stderr",
          "output_type": "stream",
          "text": [
            "WARNING:root:command line args [-f /root/.local/share/jupyter/runtime/kernel-a7e19ae3-fb9e-4161-a147-e3d1f962669a.json] will not be used in RecBole\n",
            "command line args [-f /root/.local/share/jupyter/runtime/kernel-a7e19ae3-fb9e-4161-a147-e3d1f962669a.json] will not be used in RecBole\n",
            "Train     0: 100%|███████████████████████████████████████████████| 755/755 [00:03<00:00, 204.62it/s]\n",
            "Evaluate   : 100%|███████████████████████████████████████████| 13354/13354 [00:28<00:00, 463.71it/s]\n"
          ]
        },
        {
          "name": "stdout",
          "output_type": "stream",
          "text": [
            "It took 3.38 mins\n",
            "{'best_valid_score': -inf, 'valid_score_bigger': True, 'best_valid_result': None, 'test_result': OrderedDict([('recall@10', 0.0909), ('mrr@10', 0.1768), ('ndcg@10', 0.088), ('hit@10', 0.3654), ('precision@10', 0.0504)])}\n",
            "running DMF...\n"
          ]
        },
        {
          "name": "stderr",
          "output_type": "stream",
          "text": [
            "WARNING:root:command line args [-f /root/.local/share/jupyter/runtime/kernel-a7e19ae3-fb9e-4161-a147-e3d1f962669a.json] will not be used in RecBole\n",
            "command line args [-f /root/.local/share/jupyter/runtime/kernel-a7e19ae3-fb9e-4161-a147-e3d1f962669a.json] will not be used in RecBole\n",
            "WARNING:root:Max value of item's history interaction records has reached 44.36540621490079% of the total.\n",
            "Max value of item's history interaction records has reached 44.36540621490079% of the total.\n",
            "WARNING:root:Max value of user's history interaction records has reached 20.9471766848816% of the total.\n",
            "Max value of user's history interaction records has reached 20.9471766848816% of the total.\n",
            "Train     0: 100%|████████████████████████████████████████████████| 755/755 [08:07<00:00,  1.55it/s]\n",
            "Train     1: 100%|████████████████████████████████████████████████| 755/755 [08:00<00:00,  1.57it/s]\n",
            "Train     2: 100%|████████████████████████████████████████████████| 755/755 [07:58<00:00,  1.58it/s]\n",
            "Train     3: 100%|████████████████████████████████████████████████| 755/755 [07:52<00:00,  1.60it/s]\n",
            "Train     4: 100%|████████████████████████████████████████████████| 755/755 [07:52<00:00,  1.60it/s]\n",
            "Train     5: 100%|████████████████████████████████████████████████| 755/755 [07:50<00:00,  1.61it/s]\n",
            "Train     6: 100%|████████████████████████████████████████████████| 755/755 [07:53<00:00,  1.60it/s]\n",
            "Train     7: 100%|████████████████████████████████████████████████| 755/755 [07:50<00:00,  1.61it/s]\n",
            "Train     8: 100%|████████████████████████████████████████████████| 755/755 [07:51<00:00,  1.60it/s]\n",
            "Train     9: 100%|████████████████████████████████████████████████| 755/755 [07:55<00:00,  1.59it/s]\n",
            "Evaluate   : 100%|███████████████████████████████████████████| 13354/13354 [00:17<00:00, 777.63it/s]\n"
          ]
        },
        {
          "name": "stdout",
          "output_type": "stream",
          "text": [
            "It took 80.70 mins\n",
            "{'best_valid_score': -inf, 'valid_score_bigger': True, 'best_valid_result': None, 'test_result': OrderedDict([('recall@10', 0.0769), ('mrr@10', 0.1422), ('ndcg@10', 0.0716), ('hit@10', 0.3239), ('precision@10', 0.0422)])}\n",
            "running RecVAE...\n"
          ]
        },
        {
          "name": "stderr",
          "output_type": "stream",
          "text": [
            "WARNING:root:command line args [-f /root/.local/share/jupyter/runtime/kernel-a7e19ae3-fb9e-4161-a147-e3d1f962669a.json] will not be used in RecBole\n",
            "command line args [-f /root/.local/share/jupyter/runtime/kernel-a7e19ae3-fb9e-4161-a147-e3d1f962669a.json] will not be used in RecBole\n",
            "WARNING:root:Max value of user's history interaction records has reached 20.9471766848816% of the total.\n",
            "Max value of user's history interaction records has reached 20.9471766848816% of the total.\n",
            "Train     0: 100%|████████████████████████████████████████████████████| 7/7 [00:12<00:00,  1.74s/it]\n",
            "Train     0: 100%|████████████████████████████████████████████████████| 7/7 [00:10<00:00,  1.55s/it]\n",
            "Train     0: 100%|████████████████████████████████████████████████████| 7/7 [00:12<00:00,  1.74s/it]\n",
            "Train     0: 100%|████████████████████████████████████████████████████| 7/7 [00:11<00:00,  1.70s/it]\n",
            "Train     1: 100%|████████████████████████████████████████████████████| 7/7 [00:12<00:00,  1.75s/it]\n",
            "Train     1: 100%|████████████████████████████████████████████████████| 7/7 [00:12<00:00,  1.75s/it]\n",
            "Train     1: 100%|████████████████████████████████████████████████████| 7/7 [00:11<00:00,  1.60s/it]\n",
            "Train     1: 100%|████████████████████████████████████████████████████| 7/7 [00:11<00:00,  1.62s/it]\n",
            "Train     2: 100%|████████████████████████████████████████████████████| 7/7 [00:12<00:00,  1.75s/it]\n",
            "Train     2: 100%|████████████████████████████████████████████████████| 7/7 [00:12<00:00,  1.74s/it]\n",
            "Train     2: 100%|████████████████████████████████████████████████████| 7/7 [00:12<00:00,  1.75s/it]\n",
            "Train     2: 100%|████████████████████████████████████████████████████| 7/7 [00:11<00:00,  1.62s/it]\n",
            "Train     3: 100%|████████████████████████████████████████████████████| 7/7 [00:11<00:00,  1.60s/it]\n",
            "Train     3: 100%|████████████████████████████████████████████████████| 7/7 [00:12<00:00,  1.76s/it]\n",
            "Train     3: 100%|████████████████████████████████████████████████████| 7/7 [00:12<00:00,  1.75s/it]\n",
            "Train     3: 100%|████████████████████████████████████████████████████| 7/7 [00:12<00:00,  1.72s/it]\n",
            "Train     4: 100%|████████████████████████████████████████████████████| 7/7 [00:12<00:00,  1.75s/it]\n",
            "Train     4: 100%|████████████████████████████████████████████████████| 7/7 [00:10<00:00,  1.57s/it]\n",
            "Train     4: 100%|████████████████████████████████████████████████████| 7/7 [00:11<00:00,  1.69s/it]\n",
            "Train     4: 100%|████████████████████████████████████████████████████| 7/7 [00:12<00:00,  1.72s/it]\n",
            "Train     5: 100%|████████████████████████████████████████████████████| 7/7 [00:12<00:00,  1.77s/it]\n",
            "Train     5: 100%|████████████████████████████████████████████████████| 7/7 [00:12<00:00,  1.75s/it]\n",
            "Train     5: 100%|████████████████████████████████████████████████████| 7/7 [00:13<00:00,  1.99s/it]\n",
            "Train     5: 100%|████████████████████████████████████████████████████| 7/7 [00:10<00:00,  1.55s/it]\n",
            "Train     6: 100%|████████████████████████████████████████████████████| 7/7 [00:11<00:00,  1.65s/it]\n",
            "Train     6: 100%|████████████████████████████████████████████████████| 7/7 [00:12<00:00,  1.75s/it]\n",
            "Train     6: 100%|████████████████████████████████████████████████████| 7/7 [00:12<00:00,  1.76s/it]\n",
            "Train     6: 100%|████████████████████████████████████████████████████| 7/7 [00:11<00:00,  1.71s/it]\n",
            "Train     7: 100%|████████████████████████████████████████████████████| 7/7 [00:11<00:00,  1.67s/it]\n",
            "Train     7: 100%|████████████████████████████████████████████████████| 7/7 [00:11<00:00,  1.57s/it]\n",
            "Train     7: 100%|████████████████████████████████████████████████████| 7/7 [00:12<00:00,  1.73s/it]\n",
            "Train     7: 100%|████████████████████████████████████████████████████| 7/7 [00:11<00:00,  1.71s/it]\n",
            "Train     8: 100%|████████████████████████████████████████████████████| 7/7 [00:12<00:00,  1.78s/it]\n",
            "Train     8: 100%|████████████████████████████████████████████████████| 7/7 [00:12<00:00,  1.75s/it]\n",
            "Train     8: 100%|████████████████████████████████████████████████████| 7/7 [00:10<00:00,  1.54s/it]\n",
            "Train     8: 100%|████████████████████████████████████████████████████| 7/7 [00:11<00:00,  1.65s/it]\n",
            "Train     9: 100%|████████████████████████████████████████████████████| 7/7 [00:12<00:00,  1.73s/it]\n",
            "Train     9: 100%|████████████████████████████████████████████████████| 7/7 [00:12<00:00,  1.73s/it]\n",
            "Train     9: 100%|████████████████████████████████████████████████████| 7/7 [00:12<00:00,  1.74s/it]\n",
            "Train     9: 100%|████████████████████████████████████████████████████| 7/7 [00:10<00:00,  1.54s/it]\n",
            "Evaluate   : 100%|███████████████████████████████████████████| 13354/13354 [00:57<00:00, 232.16it/s]\n"
          ]
        },
        {
          "name": "stdout",
          "output_type": "stream",
          "text": [
            "It took 10.09 mins\n",
            "{'best_valid_score': -inf, 'valid_score_bigger': True, 'best_valid_result': None, 'test_result': OrderedDict([('recall@10', 0.0849), ('mrr@10', 0.1697), ('ndcg@10', 0.0828), ('hit@10', 0.3532), ('precision@10', 0.047)])}\n",
            "running ConvNCF...\n"
          ]
        },
        {
          "name": "stderr",
          "output_type": "stream",
          "text": [
            "WARNING:root:command line args [-f /root/.local/share/jupyter/runtime/kernel-a7e19ae3-fb9e-4161-a147-e3d1f962669a.json] will not be used in RecBole\n",
            "command line args [-f /root/.local/share/jupyter/runtime/kernel-a7e19ae3-fb9e-4161-a147-e3d1f962669a.json] will not be used in RecBole\n",
            "Train     0: 100%|████████████████████████████████████████████████| 378/378 [10:50<00:00,  1.72s/it]\n",
            "Train     1: 100%|████████████████████████████████████████████████| 378/378 [10:39<00:00,  1.69s/it]\n",
            "Train     2: 100%|████████████████████████████████████████████████| 378/378 [10:23<00:00,  1.65s/it]\n",
            "Train     3: 100%|████████████████████████████████████████████████| 378/378 [10:22<00:00,  1.65s/it]\n",
            "Train     4: 100%|████████████████████████████████████████████████| 378/378 [10:36<00:00,  1.68s/it]\n",
            "Train     5: 100%|████████████████████████████████████████████████| 378/378 [10:42<00:00,  1.70s/it]\n",
            "Train     6: 100%|████████████████████████████████████████████████| 378/378 [10:52<00:00,  1.73s/it]\n",
            "Train     7: 100%|████████████████████████████████████████████████| 378/378 [11:00<00:00,  1.75s/it]\n",
            "Train     8: 100%|████████████████████████████████████████████████| 378/378 [11:03<00:00,  1.76s/it]\n",
            "Train     9: 100%|████████████████████████████████████████████████| 378/378 [11:08<00:00,  1.77s/it]\n",
            "Evaluate   :  49%|█████████████████████▉                       | 6522/13354 [37:10<37:36,  3.03it/s]"
          ]
        }
      ],
      "source": [
        "%%time\n",
        "model_list = ['ItemKNN', 'DMF', 'RecVAE', 'ConvNCF', 'LightGCN']\n",
        "\n",
        "for model_name in model_list:\n",
        "    print(f\"running {model_name}...\")\n",
        "    start = time.time()\n",
        "    result = run_recbole(model=model_name, dataset = 'recbox_data',config_dict = parameter_dict)\n",
        "    t = time.time() - start\n",
        "    print(f\"It took {t/60:.2f} mins\")\n",
        "    print(result)"
      ]
    },
    {
      "cell_type": "code",
      "execution_count": null,
      "metadata": {
        "id": "ZgIBUapjPGG2"
      },
      "outputs": [],
      "source": [
        "result = run_recbole(model='MultiVAE', dataset = 'recbox_data',config_dict = parameter_dict )"
      ]
    }
  ],
  "metadata": {
    "colab": {
      "provenance": [],
      "authorship_tag": "ABX9TyPhNnIbu2cj/XIRKLgjP8bl",
      "include_colab_link": true
    },
    "kernelspec": {
      "display_name": "Python 3",
      "name": "python3"
    },
    "language_info": {
      "name": "python"
    }
  },
  "nbformat": 4,
  "nbformat_minor": 0
}